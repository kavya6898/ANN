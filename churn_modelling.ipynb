{
 "cells": [
  {
   "cell_type": "code",
   "execution_count": 1,
   "metadata": {
    "id": "NqQy-PLAYHwj"
   },
   "outputs": [],
   "source": [
    "import numpy as np\n",
    "import pandas as pd\n",
    "import matplotlib.pyplot as plt"
   ]
  },
  {
   "cell_type": "code",
   "execution_count": 2,
   "metadata": {
    "colab": {
     "base_uri": "https://localhost:8080/",
     "height": 215
    },
    "id": "V9pBIbH5YlkP",
    "outputId": "e51db010-febe-4963-e6dc-4444911ca005"
   },
   "outputs": [
    {
     "data": {
      "text/html": [
       "<div>\n",
       "<style scoped>\n",
       "    .dataframe tbody tr th:only-of-type {\n",
       "        vertical-align: middle;\n",
       "    }\n",
       "\n",
       "    .dataframe tbody tr th {\n",
       "        vertical-align: top;\n",
       "    }\n",
       "\n",
       "    .dataframe thead th {\n",
       "        text-align: right;\n",
       "    }\n",
       "</style>\n",
       "<table border=\"1\" class=\"dataframe\">\n",
       "  <thead>\n",
       "    <tr style=\"text-align: right;\">\n",
       "      <th></th>\n",
       "      <th>RowNumber</th>\n",
       "      <th>CustomerId</th>\n",
       "      <th>Surname</th>\n",
       "      <th>CreditScore</th>\n",
       "      <th>Geography</th>\n",
       "      <th>Gender</th>\n",
       "      <th>Age</th>\n",
       "      <th>Tenure</th>\n",
       "      <th>Balance</th>\n",
       "      <th>NumOfProducts</th>\n",
       "      <th>HasCrCard</th>\n",
       "      <th>IsActiveMember</th>\n",
       "      <th>EstimatedSalary</th>\n",
       "      <th>Exited</th>\n",
       "    </tr>\n",
       "  </thead>\n",
       "  <tbody>\n",
       "    <tr>\n",
       "      <th>0</th>\n",
       "      <td>1</td>\n",
       "      <td>15634602</td>\n",
       "      <td>Hargrave</td>\n",
       "      <td>619</td>\n",
       "      <td>France</td>\n",
       "      <td>Female</td>\n",
       "      <td>42</td>\n",
       "      <td>2</td>\n",
       "      <td>0.00</td>\n",
       "      <td>1</td>\n",
       "      <td>1</td>\n",
       "      <td>1</td>\n",
       "      <td>101348.88</td>\n",
       "      <td>1</td>\n",
       "    </tr>\n",
       "    <tr>\n",
       "      <th>1</th>\n",
       "      <td>2</td>\n",
       "      <td>15647311</td>\n",
       "      <td>Hill</td>\n",
       "      <td>608</td>\n",
       "      <td>Spain</td>\n",
       "      <td>Female</td>\n",
       "      <td>41</td>\n",
       "      <td>1</td>\n",
       "      <td>83807.86</td>\n",
       "      <td>1</td>\n",
       "      <td>0</td>\n",
       "      <td>1</td>\n",
       "      <td>112542.58</td>\n",
       "      <td>0</td>\n",
       "    </tr>\n",
       "    <tr>\n",
       "      <th>2</th>\n",
       "      <td>3</td>\n",
       "      <td>15619304</td>\n",
       "      <td>Onio</td>\n",
       "      <td>502</td>\n",
       "      <td>France</td>\n",
       "      <td>Female</td>\n",
       "      <td>42</td>\n",
       "      <td>8</td>\n",
       "      <td>159660.80</td>\n",
       "      <td>3</td>\n",
       "      <td>1</td>\n",
       "      <td>0</td>\n",
       "      <td>113931.57</td>\n",
       "      <td>1</td>\n",
       "    </tr>\n",
       "    <tr>\n",
       "      <th>3</th>\n",
       "      <td>4</td>\n",
       "      <td>15701354</td>\n",
       "      <td>Boni</td>\n",
       "      <td>699</td>\n",
       "      <td>France</td>\n",
       "      <td>Female</td>\n",
       "      <td>39</td>\n",
       "      <td>1</td>\n",
       "      <td>0.00</td>\n",
       "      <td>2</td>\n",
       "      <td>0</td>\n",
       "      <td>0</td>\n",
       "      <td>93826.63</td>\n",
       "      <td>0</td>\n",
       "    </tr>\n",
       "    <tr>\n",
       "      <th>4</th>\n",
       "      <td>5</td>\n",
       "      <td>15737888</td>\n",
       "      <td>Mitchell</td>\n",
       "      <td>850</td>\n",
       "      <td>Spain</td>\n",
       "      <td>Female</td>\n",
       "      <td>43</td>\n",
       "      <td>2</td>\n",
       "      <td>125510.82</td>\n",
       "      <td>1</td>\n",
       "      <td>1</td>\n",
       "      <td>1</td>\n",
       "      <td>79084.10</td>\n",
       "      <td>0</td>\n",
       "    </tr>\n",
       "  </tbody>\n",
       "</table>\n",
       "</div>"
      ],
      "text/plain": [
       "   RowNumber  CustomerId   Surname  CreditScore Geography  Gender  Age  \\\n",
       "0          1    15634602  Hargrave          619    France  Female   42   \n",
       "1          2    15647311      Hill          608     Spain  Female   41   \n",
       "2          3    15619304      Onio          502    France  Female   42   \n",
       "3          4    15701354      Boni          699    France  Female   39   \n",
       "4          5    15737888  Mitchell          850     Spain  Female   43   \n",
       "\n",
       "   Tenure    Balance  NumOfProducts  HasCrCard  IsActiveMember  \\\n",
       "0       2       0.00              1          1               1   \n",
       "1       1   83807.86              1          0               1   \n",
       "2       8  159660.80              3          1               0   \n",
       "3       1       0.00              2          0               0   \n",
       "4       2  125510.82              1          1               1   \n",
       "\n",
       "   EstimatedSalary  Exited  \n",
       "0        101348.88       1  \n",
       "1        112542.58       0  \n",
       "2        113931.57       1  \n",
       "3         93826.63       0  \n",
       "4         79084.10       0  "
      ]
     },
     "execution_count": 2,
     "metadata": {},
     "output_type": "execute_result"
    }
   ],
   "source": [
    "df = pd.read_csv('C:/Users/Kavya/Downloads/churn_modelling.csv')\n",
    "df.head()"
   ]
  },
  {
   "cell_type": "markdown",
   "metadata": {},
   "source": [
    "# cleaning data"
   ]
  },
  {
   "cell_type": "code",
   "execution_count": 3,
   "metadata": {
    "colab": {
     "base_uri": "https://localhost:8080/"
    },
    "id": "D9YV6XTMYrbu",
    "outputId": "e65fb760-a156-4a0d-fd1a-4e992f9dee39"
   },
   "outputs": [
    {
     "data": {
      "text/plain": [
       "RowNumber          0\n",
       "CustomerId         0\n",
       "Surname            0\n",
       "CreditScore        0\n",
       "Geography          0\n",
       "Gender             0\n",
       "Age                0\n",
       "Tenure             0\n",
       "Balance            0\n",
       "NumOfProducts      0\n",
       "HasCrCard          0\n",
       "IsActiveMember     0\n",
       "EstimatedSalary    0\n",
       "Exited             0\n",
       "dtype: int64"
      ]
     },
     "execution_count": 3,
     "metadata": {},
     "output_type": "execute_result"
    }
   ],
   "source": [
    "df.isnull().sum()"
   ]
  },
  {
   "cell_type": "code",
   "execution_count": 4,
   "metadata": {
    "colab": {
     "base_uri": "https://localhost:8080/"
    },
    "id": "RorgrusCY0D7",
    "outputId": "ce24e7ec-8b47-429c-8f75-728ae11e6823"
   },
   "outputs": [
    {
     "data": {
      "text/plain": [
       "array(['Female', 'Male'], dtype=object)"
      ]
     },
     "execution_count": 4,
     "metadata": {},
     "output_type": "execute_result"
    }
   ],
   "source": [
    "df.Gender.unique()"
   ]
  },
  {
   "cell_type": "code",
   "execution_count": 5,
   "metadata": {
    "colab": {
     "base_uri": "https://localhost:8080/"
    },
    "id": "i13h1HGdY3WQ",
    "outputId": "681ace68-31bc-422a-d94f-7595d6612395"
   },
   "outputs": [
    {
     "data": {
      "text/plain": [
       "Male      5457\n",
       "Female    4543\n",
       "Name: Gender, dtype: int64"
      ]
     },
     "execution_count": 5,
     "metadata": {},
     "output_type": "execute_result"
    }
   ],
   "source": [
    "df.Gender.value_counts()"
   ]
  },
  {
   "cell_type": "code",
   "execution_count": 6,
   "metadata": {
    "colab": {
     "base_uri": "https://localhost:8080/"
    },
    "id": "qcSK0A-vY6NG",
    "outputId": "7df401c2-fdbc-4d92-9cd6-1b70ea518046"
   },
   "outputs": [
    {
     "data": {
      "text/plain": [
       "array(['France', 'Spain', 'Germany'], dtype=object)"
      ]
     },
     "execution_count": 6,
     "metadata": {},
     "output_type": "execute_result"
    }
   ],
   "source": [
    "df.Geography.unique()"
   ]
  },
  {
   "cell_type": "code",
   "execution_count": 7,
   "metadata": {
    "colab": {
     "base_uri": "https://localhost:8080/"
    },
    "id": "8HzVjaWtY8ka",
    "outputId": "bc851f50-d064-40ea-ba78-2aab7c595592"
   },
   "outputs": [
    {
     "data": {
      "text/plain": [
       "France     5014\n",
       "Germany    2509\n",
       "Spain      2477\n",
       "Name: Geography, dtype: int64"
      ]
     },
     "execution_count": 7,
     "metadata": {},
     "output_type": "execute_result"
    }
   ],
   "source": [
    "df.Geography.value_counts()"
   ]
  },
  {
   "cell_type": "markdown",
   "metadata": {},
   "source": [
    "# categorical values"
   ]
  },
  {
   "cell_type": "code",
   "execution_count": 8,
   "metadata": {
    "colab": {
     "base_uri": "https://localhost:8080/"
    },
    "id": "jbmNUicZY-3v",
    "outputId": "c9df0a04-6dd9-4cc9-ebe1-dd55dc0897da"
   },
   "outputs": [
    {
     "name": "stdout",
     "output_type": "stream",
     "text": [
      "      Germany  Spain\n",
      "0           0      0\n",
      "1           0      1\n",
      "2           0      0\n",
      "3           0      0\n",
      "4           0      1\n",
      "...       ...    ...\n",
      "9995        0      0\n",
      "9996        0      0\n",
      "9997        0      0\n",
      "9998        1      0\n",
      "9999        0      0\n",
      "\n",
      "[10000 rows x 2 columns]\n"
     ]
    }
   ],
   "source": [
    "a = pd.get_dummies(df.Gender,drop_first=True)\n",
    "b = pd.get_dummies(df.Geography,drop_first=True)\n",
    "print(b)"
   ]
  },
  {
   "cell_type": "code",
   "execution_count": 9,
   "metadata": {
    "id": "dhNr6OGaZCMP"
   },
   "outputs": [],
   "source": [
    "df = pd.concat([df,a,b],axis=1)"
   ]
  },
  {
   "cell_type": "code",
   "execution_count": 10,
   "metadata": {
    "colab": {
     "base_uri": "https://localhost:8080/",
     "height": 215
    },
    "id": "62tFTEP1ZI-q",
    "outputId": "7052e702-f0ef-42ad-a307-9a723da8cc02"
   },
   "outputs": [
    {
     "data": {
      "text/html": [
       "<div>\n",
       "<style scoped>\n",
       "    .dataframe tbody tr th:only-of-type {\n",
       "        vertical-align: middle;\n",
       "    }\n",
       "\n",
       "    .dataframe tbody tr th {\n",
       "        vertical-align: top;\n",
       "    }\n",
       "\n",
       "    .dataframe thead th {\n",
       "        text-align: right;\n",
       "    }\n",
       "</style>\n",
       "<table border=\"1\" class=\"dataframe\">\n",
       "  <thead>\n",
       "    <tr style=\"text-align: right;\">\n",
       "      <th></th>\n",
       "      <th>CreditScore</th>\n",
       "      <th>Age</th>\n",
       "      <th>Tenure</th>\n",
       "      <th>Balance</th>\n",
       "      <th>NumOfProducts</th>\n",
       "      <th>HasCrCard</th>\n",
       "      <th>IsActiveMember</th>\n",
       "      <th>EstimatedSalary</th>\n",
       "      <th>Exited</th>\n",
       "      <th>Male</th>\n",
       "      <th>Germany</th>\n",
       "      <th>Spain</th>\n",
       "    </tr>\n",
       "  </thead>\n",
       "  <tbody>\n",
       "    <tr>\n",
       "      <th>0</th>\n",
       "      <td>619</td>\n",
       "      <td>42</td>\n",
       "      <td>2</td>\n",
       "      <td>0.00</td>\n",
       "      <td>1</td>\n",
       "      <td>1</td>\n",
       "      <td>1</td>\n",
       "      <td>101348.88</td>\n",
       "      <td>1</td>\n",
       "      <td>0</td>\n",
       "      <td>0</td>\n",
       "      <td>0</td>\n",
       "    </tr>\n",
       "    <tr>\n",
       "      <th>1</th>\n",
       "      <td>608</td>\n",
       "      <td>41</td>\n",
       "      <td>1</td>\n",
       "      <td>83807.86</td>\n",
       "      <td>1</td>\n",
       "      <td>0</td>\n",
       "      <td>1</td>\n",
       "      <td>112542.58</td>\n",
       "      <td>0</td>\n",
       "      <td>0</td>\n",
       "      <td>0</td>\n",
       "      <td>1</td>\n",
       "    </tr>\n",
       "    <tr>\n",
       "      <th>2</th>\n",
       "      <td>502</td>\n",
       "      <td>42</td>\n",
       "      <td>8</td>\n",
       "      <td>159660.80</td>\n",
       "      <td>3</td>\n",
       "      <td>1</td>\n",
       "      <td>0</td>\n",
       "      <td>113931.57</td>\n",
       "      <td>1</td>\n",
       "      <td>0</td>\n",
       "      <td>0</td>\n",
       "      <td>0</td>\n",
       "    </tr>\n",
       "    <tr>\n",
       "      <th>3</th>\n",
       "      <td>699</td>\n",
       "      <td>39</td>\n",
       "      <td>1</td>\n",
       "      <td>0.00</td>\n",
       "      <td>2</td>\n",
       "      <td>0</td>\n",
       "      <td>0</td>\n",
       "      <td>93826.63</td>\n",
       "      <td>0</td>\n",
       "      <td>0</td>\n",
       "      <td>0</td>\n",
       "      <td>0</td>\n",
       "    </tr>\n",
       "    <tr>\n",
       "      <th>4</th>\n",
       "      <td>850</td>\n",
       "      <td>43</td>\n",
       "      <td>2</td>\n",
       "      <td>125510.82</td>\n",
       "      <td>1</td>\n",
       "      <td>1</td>\n",
       "      <td>1</td>\n",
       "      <td>79084.10</td>\n",
       "      <td>0</td>\n",
       "      <td>0</td>\n",
       "      <td>0</td>\n",
       "      <td>1</td>\n",
       "    </tr>\n",
       "  </tbody>\n",
       "</table>\n",
       "</div>"
      ],
      "text/plain": [
       "   CreditScore  Age  Tenure    Balance  NumOfProducts  HasCrCard  \\\n",
       "0          619   42       2       0.00              1          1   \n",
       "1          608   41       1   83807.86              1          0   \n",
       "2          502   42       8  159660.80              3          1   \n",
       "3          699   39       1       0.00              2          0   \n",
       "4          850   43       2  125510.82              1          1   \n",
       "\n",
       "   IsActiveMember  EstimatedSalary  Exited  Male  Germany  Spain  \n",
       "0               1        101348.88       1     0        0      0  \n",
       "1               1        112542.58       0     0        0      1  \n",
       "2               0        113931.57       1     0        0      0  \n",
       "3               0         93826.63       0     0        0      0  \n",
       "4               1         79084.10       0     0        0      1  "
      ]
     },
     "execution_count": 10,
     "metadata": {},
     "output_type": "execute_result"
    }
   ],
   "source": [
    "df = df.drop(['Geography','Gender','RowNumber','CustomerId','Surname'],axis=1)\n",
    "df.head()"
   ]
  },
  {
   "cell_type": "markdown",
   "metadata": {},
   "source": [
    "# feature selection"
   ]
  },
  {
   "cell_type": "code",
   "execution_count": 11,
   "metadata": {
    "id": "lKw7juipZPWU"
   },
   "outputs": [],
   "source": [
    "X = df.drop(['Exited'],axis=1)\n",
    "y = df.Exited"
   ]
  },
  {
   "cell_type": "code",
   "execution_count": 12,
   "metadata": {
    "id": "fURN5rGSZSlh"
   },
   "outputs": [],
   "source": [
    "from sklearn.model_selection import train_test_split\n",
    "X_train, X_test, y_train, y_test = train_test_split(X, y, test_size=0.33, random_state=42)"
   ]
  },
  {
   "cell_type": "code",
   "execution_count": 13,
   "metadata": {
    "colab": {
     "base_uri": "https://localhost:8080/",
     "height": 215
    },
    "id": "9VhOsD4-ZVCt",
    "outputId": "7519c9ce-c8c1-4776-d45f-02a2976565cf"
   },
   "outputs": [
    {
     "data": {
      "text/html": [
       "<div>\n",
       "<style scoped>\n",
       "    .dataframe tbody tr th:only-of-type {\n",
       "        vertical-align: middle;\n",
       "    }\n",
       "\n",
       "    .dataframe tbody tr th {\n",
       "        vertical-align: top;\n",
       "    }\n",
       "\n",
       "    .dataframe thead th {\n",
       "        text-align: right;\n",
       "    }\n",
       "</style>\n",
       "<table border=\"1\" class=\"dataframe\">\n",
       "  <thead>\n",
       "    <tr style=\"text-align: right;\">\n",
       "      <th></th>\n",
       "      <th>CreditScore</th>\n",
       "      <th>Age</th>\n",
       "      <th>Tenure</th>\n",
       "      <th>Balance</th>\n",
       "      <th>NumOfProducts</th>\n",
       "      <th>HasCrCard</th>\n",
       "      <th>IsActiveMember</th>\n",
       "      <th>EstimatedSalary</th>\n",
       "      <th>Male</th>\n",
       "      <th>Germany</th>\n",
       "      <th>Spain</th>\n",
       "    </tr>\n",
       "  </thead>\n",
       "  <tbody>\n",
       "    <tr>\n",
       "      <th>8371</th>\n",
       "      <td>813</td>\n",
       "      <td>29</td>\n",
       "      <td>5</td>\n",
       "      <td>106059.40</td>\n",
       "      <td>1</td>\n",
       "      <td>0</td>\n",
       "      <td>0</td>\n",
       "      <td>187976.88</td>\n",
       "      <td>0</td>\n",
       "      <td>1</td>\n",
       "      <td>0</td>\n",
       "    </tr>\n",
       "    <tr>\n",
       "      <th>5027</th>\n",
       "      <td>681</td>\n",
       "      <td>37</td>\n",
       "      <td>8</td>\n",
       "      <td>73179.34</td>\n",
       "      <td>2</td>\n",
       "      <td>1</td>\n",
       "      <td>1</td>\n",
       "      <td>25292.53</td>\n",
       "      <td>1</td>\n",
       "      <td>1</td>\n",
       "      <td>0</td>\n",
       "    </tr>\n",
       "    <tr>\n",
       "      <th>9234</th>\n",
       "      <td>642</td>\n",
       "      <td>49</td>\n",
       "      <td>4</td>\n",
       "      <td>120688.61</td>\n",
       "      <td>1</td>\n",
       "      <td>1</td>\n",
       "      <td>0</td>\n",
       "      <td>24770.22</td>\n",
       "      <td>1</td>\n",
       "      <td>1</td>\n",
       "      <td>0</td>\n",
       "    </tr>\n",
       "    <tr>\n",
       "      <th>3944</th>\n",
       "      <td>612</td>\n",
       "      <td>31</td>\n",
       "      <td>8</td>\n",
       "      <td>117989.76</td>\n",
       "      <td>1</td>\n",
       "      <td>1</td>\n",
       "      <td>1</td>\n",
       "      <td>54129.86</td>\n",
       "      <td>0</td>\n",
       "      <td>0</td>\n",
       "      <td>0</td>\n",
       "    </tr>\n",
       "    <tr>\n",
       "      <th>6862</th>\n",
       "      <td>586</td>\n",
       "      <td>33</td>\n",
       "      <td>9</td>\n",
       "      <td>0.00</td>\n",
       "      <td>1</td>\n",
       "      <td>1</td>\n",
       "      <td>0</td>\n",
       "      <td>6975.02</td>\n",
       "      <td>1</td>\n",
       "      <td>0</td>\n",
       "      <td>0</td>\n",
       "    </tr>\n",
       "  </tbody>\n",
       "</table>\n",
       "</div>"
      ],
      "text/plain": [
       "      CreditScore  Age  Tenure    Balance  NumOfProducts  HasCrCard  \\\n",
       "8371          813   29       5  106059.40              1          0   \n",
       "5027          681   37       8   73179.34              2          1   \n",
       "9234          642   49       4  120688.61              1          1   \n",
       "3944          612   31       8  117989.76              1          1   \n",
       "6862          586   33       9       0.00              1          1   \n",
       "\n",
       "      IsActiveMember  EstimatedSalary  Male  Germany  Spain  \n",
       "8371               0        187976.88     0        1      0  \n",
       "5027               1         25292.53     1        1      0  \n",
       "9234               0         24770.22     1        1      0  \n",
       "3944               1         54129.86     0        0      0  \n",
       "6862               0          6975.02     1        0      0  "
      ]
     },
     "execution_count": 13,
     "metadata": {},
     "output_type": "execute_result"
    }
   ],
   "source": [
    "X_train.head()"
   ]
  },
  {
   "cell_type": "code",
   "execution_count": 14,
   "metadata": {
    "colab": {
     "base_uri": "https://localhost:8080/"
    },
    "id": "duULEuTpZX3y",
    "outputId": "52e52b52-f6a9-4334-c438-9621d95bae10"
   },
   "outputs": [
    {
     "data": {
      "text/plain": [
       "8371    1\n",
       "5027    0\n",
       "9234    1\n",
       "3944    0\n",
       "6862    0\n",
       "Name: Exited, dtype: int64"
      ]
     },
     "execution_count": 14,
     "metadata": {},
     "output_type": "execute_result"
    }
   ],
   "source": [
    "y_train.head()"
   ]
  },
  {
   "cell_type": "code",
   "execution_count": 15,
   "metadata": {
    "id": "P0NCyWn-ZaxU"
   },
   "outputs": [],
   "source": [
    "from sklearn.preprocessing import StandardScaler\n",
    "sc = StandardScaler()\n",
    "X_train = sc.fit_transform(X_train)\n",
    "X_test = sc.transform(X_test)\n"
   ]
  },
  {
   "cell_type": "markdown",
   "metadata": {},
   "source": [
    "# ANN"
   ]
  },
  {
   "cell_type": "code",
   "execution_count": 16,
   "metadata": {
    "id": "bMMcwWMBZdIm"
   },
   "outputs": [],
   "source": [
    "import keras\n",
    "from keras.models import Sequential\n",
    "from keras.layers import Dense\n",
    "from keras.layers import Dropout\n",
    "from keras.layers import ReLU,LeakyReLU,PReLU,ELU"
   ]
  },
  {
   "cell_type": "code",
   "execution_count": 17,
   "metadata": {
    "id": "CVcqX_q1ZfWx"
   },
   "outputs": [],
   "source": [
    "ann = Sequential()\n"
   ]
  },
  {
   "cell_type": "code",
   "execution_count": 18,
   "metadata": {
    "colab": {
     "base_uri": "https://localhost:8080/"
    },
    "id": "1crZLM68Zimb",
    "outputId": "4e684c62-d68e-4e72-c2f5-2a4cc2d21ec0"
   },
   "outputs": [
    {
     "data": {
      "text/plain": [
       "(6700, 11)"
      ]
     },
     "execution_count": 18,
     "metadata": {},
     "output_type": "execute_result"
    }
   ],
   "source": [
    "X_train.shape"
   ]
  },
  {
   "cell_type": "code",
   "execution_count": 22,
   "metadata": {
    "id": "B8bABAZbZlRF"
   },
   "outputs": [],
   "source": [
    "ann.add(Dense(units=9,kernel_initializer='he_uniform',activation='relu',input_dim=11))\n",
    "ann.add(Dense(units=6,kernel_initializer='he_uniform',activation='relu'))\n",
    "ann.add(Dense(units=1,kernel_initializer='glorot_uniform',activation='sigmoid'))\n"
   ]
  },
  {
   "cell_type": "code",
   "execution_count": 23,
   "metadata": {
    "id": "wIRr-0qfZx8L"
   },
   "outputs": [],
   "source": [
    "ann.compile(optimizer='Adamax',loss='binary_crossentropy',metrics=['accuracy'])\n"
   ]
  },
  {
   "cell_type": "code",
   "execution_count": 24,
   "metadata": {
    "colab": {
     "base_uri": "https://localhost:8080/"
    },
    "id": "A8LPdT4aZ7eE",
    "outputId": "9cb86cb4-c314-41cc-956f-9fa9c6b63dab"
   },
   "outputs": [
    {
     "name": "stdout",
     "output_type": "stream",
     "text": [
      "Epoch 1/100\n",
      "670/670 [==============================] - 1s 542us/step - loss: 0.5875 - accuracy: 0.7433\n",
      "Epoch 2/100\n",
      "670/670 [==============================] - 0s 520us/step - loss: 0.3847 - accuracy: 0.8582\n",
      "Epoch 3/100\n",
      "670/670 [==============================] - 0s 527us/step - loss: 0.3557 - accuracy: 0.8617\n",
      "Epoch 4/100\n",
      "670/670 [==============================] - 0s 543us/step - loss: 0.3520 - accuracy: 0.8608\n",
      "Epoch 5/100\n",
      "670/670 [==============================] - 0s 502us/step - loss: 0.3461 - accuracy: 0.8573\n",
      "Epoch 6/100\n",
      "670/670 [==============================] - 0s 552us/step - loss: 0.3572 - accuracy: 0.8523\n",
      "Epoch 7/100\n",
      "670/670 [==============================] - 0s 538us/step - loss: 0.3340 - accuracy: 0.8677\n",
      "Epoch 8/100\n",
      "670/670 [==============================] - 0s 577us/step - loss: 0.3411 - accuracy: 0.8612\n",
      "Epoch 9/100\n",
      "670/670 [==============================] - 0s 541us/step - loss: 0.3480 - accuracy: 0.8577\n",
      "Epoch 10/100\n",
      "670/670 [==============================] - 0s 542us/step - loss: 0.3455 - accuracy: 0.8561\n",
      "Epoch 11/100\n",
      "670/670 [==============================] - 0s 516us/step - loss: 0.3370 - accuracy: 0.8610\n",
      "Epoch 12/100\n",
      "670/670 [==============================] - 0s 543us/step - loss: 0.3301 - accuracy: 0.8619\n",
      "Epoch 13/100\n",
      "670/670 [==============================] - 0s 504us/step - loss: 0.3430 - accuracy: 0.8657\n",
      "Epoch 14/100\n",
      "670/670 [==============================] - 0s 527us/step - loss: 0.3359 - accuracy: 0.8628\n",
      "Epoch 15/100\n",
      "670/670 [==============================] - 0s 552us/step - loss: 0.3311 - accuracy: 0.8681\n",
      "Epoch 16/100\n",
      "670/670 [==============================] - 0s 564us/step - loss: 0.3272 - accuracy: 0.8634\n",
      "Epoch 17/100\n",
      "670/670 [==============================] - 0s 551us/step - loss: 0.3439 - accuracy: 0.8549\n",
      "Epoch 18/100\n",
      "670/670 [==============================] - 0s 544us/step - loss: 0.3435 - accuracy: 0.8570\n",
      "Epoch 19/100\n",
      "670/670 [==============================] - 0s 556us/step - loss: 0.3257 - accuracy: 0.8617\n",
      "Epoch 20/100\n",
      "670/670 [==============================] - 0s 550us/step - loss: 0.3408 - accuracy: 0.8631\n",
      "Epoch 21/100\n",
      "670/670 [==============================] - 0s 551us/step - loss: 0.3530 - accuracy: 0.8518\n",
      "Epoch 22/100\n",
      "670/670 [==============================] - 0s 575us/step - loss: 0.3384 - accuracy: 0.8608\n",
      "Epoch 23/100\n",
      "670/670 [==============================] - 0s 590us/step - loss: 0.3412 - accuracy: 0.8554\n",
      "Epoch 24/100\n",
      "670/670 [==============================] - 0s 588us/step - loss: 0.3447 - accuracy: 0.8588\n",
      "Epoch 25/100\n",
      "670/670 [==============================] - 0s 623us/step - loss: 0.3448 - accuracy: 0.8591\n",
      "Epoch 26/100\n",
      "670/670 [==============================] - 0s 602us/step - loss: 0.3332 - accuracy: 0.8635\n",
      "Epoch 27/100\n",
      "670/670 [==============================] - 0s 620us/step - loss: 0.3482 - accuracy: 0.8505\n",
      "Epoch 28/100\n",
      "670/670 [==============================] - 0s 680us/step - loss: 0.3470 - accuracy: 0.8546\n",
      "Epoch 29/100\n",
      "670/670 [==============================] - 0s 602us/step - loss: 0.3528 - accuracy: 0.8532\n",
      "Epoch 30/100\n",
      "670/670 [==============================] - 0s 541us/step - loss: 0.3380 - accuracy: 0.8641\n",
      "Epoch 31/100\n",
      "670/670 [==============================] - 0s 543us/step - loss: 0.3381 - accuracy: 0.8614\n",
      "Epoch 32/100\n",
      "670/670 [==============================] - 0s 534us/step - loss: 0.3345 - accuracy: 0.8633\n",
      "Epoch 33/100\n",
      "670/670 [==============================] - 0s 537us/step - loss: 0.3429 - accuracy: 0.8563\n",
      "Epoch 34/100\n",
      "670/670 [==============================] - 0s 555us/step - loss: 0.3141 - accuracy: 0.87290s - loss: 0.2980 - accuracy\n",
      "Epoch 35/100\n",
      "670/670 [==============================] - 0s 527us/step - loss: 0.3335 - accuracy: 0.8629\n",
      "Epoch 36/100\n",
      "670/670 [==============================] - 0s 552us/step - loss: 0.3345 - accuracy: 0.8594\n",
      "Epoch 37/100\n",
      "670/670 [==============================] - 0s 563us/step - loss: 0.3312 - accuracy: 0.8650\n",
      "Epoch 38/100\n",
      "670/670 [==============================] - 0s 554us/step - loss: 0.3206 - accuracy: 0.8681\n",
      "Epoch 39/100\n",
      "670/670 [==============================] - 0s 548us/step - loss: 0.3420 - accuracy: 0.8597\n",
      "Epoch 40/100\n",
      "670/670 [==============================] - 0s 551us/step - loss: 0.3306 - accuracy: 0.8601\n",
      "Epoch 41/100\n",
      "670/670 [==============================] - 0s 543us/step - loss: 0.3445 - accuracy: 0.8559\n",
      "Epoch 42/100\n",
      "670/670 [==============================] - 0s 555us/step - loss: 0.3392 - accuracy: 0.8548\n",
      "Epoch 43/100\n",
      "670/670 [==============================] - 0s 538us/step - loss: 0.3326 - accuracy: 0.8636\n",
      "Epoch 44/100\n",
      "670/670 [==============================] - ETA: 0s - loss: 0.3223 - accuracy: 0.86 - 0s 543us/step - loss: 0.3235 - accuracy: 0.8689\n",
      "Epoch 45/100\n",
      "670/670 [==============================] - 0s 527us/step - loss: 0.3261 - accuracy: 0.8627\n",
      "Epoch 46/100\n",
      "670/670 [==============================] - 0s 563us/step - loss: 0.3370 - accuracy: 0.8587\n",
      "Epoch 47/100\n",
      "670/670 [==============================] - 0s 551us/step - loss: 0.3297 - accuracy: 0.8640\n",
      "Epoch 48/100\n",
      "670/670 [==============================] - 0s 539us/step - loss: 0.3309 - accuracy: 0.86060s - loss: 0.3309 - accura\n",
      "Epoch 49/100\n",
      "670/670 [==============================] - 0s 704us/step - loss: 0.3298 - accuracy: 0.8640\n",
      "Epoch 50/100\n",
      "670/670 [==============================] - 0s 599us/step - loss: 0.3281 - accuracy: 0.8673\n",
      "Epoch 51/100\n",
      "670/670 [==============================] - 0s 695us/step - loss: 0.3445 - accuracy: 0.8577\n",
      "Epoch 52/100\n",
      "670/670 [==============================] - 0s 603us/step - loss: 0.3248 - accuracy: 0.8679\n",
      "Epoch 53/100\n",
      "670/670 [==============================] - 0s 543us/step - loss: 0.3401 - accuracy: 0.8584\n",
      "Epoch 54/100\n",
      "670/670 [==============================] - 0s 515us/step - loss: 0.3341 - accuracy: 0.8625\n",
      "Epoch 55/100\n",
      "670/670 [==============================] - 0s 535us/step - loss: 0.3389 - accuracy: 0.8557\n",
      "Epoch 56/100\n",
      "670/670 [==============================] - 0s 544us/step - loss: 0.3339 - accuracy: 0.8614\n",
      "Epoch 57/100\n",
      "670/670 [==============================] - 0s 540us/step - loss: 0.3248 - accuracy: 0.8668\n",
      "Epoch 58/100\n",
      "670/670 [==============================] - 0s 527us/step - loss: 0.3322 - accuracy: 0.8649\n",
      "Epoch 59/100\n",
      "670/670 [==============================] - 0s 563us/step - loss: 0.3330 - accuracy: 0.8588\n",
      "Epoch 60/100\n",
      "670/670 [==============================] - 0s 580us/step - loss: 0.3316 - accuracy: 0.8624\n",
      "Epoch 61/100\n",
      "670/670 [==============================] - 0s 645us/step - loss: 0.3256 - accuracy: 0.8638\n",
      "Epoch 62/100\n",
      "670/670 [==============================] - 0s 542us/step - loss: 0.3291 - accuracy: 0.8628\n",
      "Epoch 63/100\n",
      "670/670 [==============================] - 0s 561us/step - loss: 0.3357 - accuracy: 0.8593\n",
      "Epoch 64/100\n",
      "670/670 [==============================] - 0s 551us/step - loss: 0.3281 - accuracy: 0.8655\n",
      "Epoch 65/100\n",
      "670/670 [==============================] - 0s 666us/step - loss: 0.3316 - accuracy: 0.8613\n",
      "Epoch 66/100\n",
      "670/670 [==============================] - 0s 568us/step - loss: 0.3190 - accuracy: 0.8727\n",
      "Epoch 67/100\n",
      "670/670 [==============================] - 0s 582us/step - loss: 0.3388 - accuracy: 0.8615\n",
      "Epoch 68/100\n",
      "670/670 [==============================] - 0s 573us/step - loss: 0.3360 - accuracy: 0.8586\n",
      "Epoch 69/100\n",
      "670/670 [==============================] - 0s 622us/step - loss: 0.3320 - accuracy: 0.8623\n",
      "Epoch 70/100\n",
      "670/670 [==============================] - 0s 604us/step - loss: 0.3344 - accuracy: 0.8621\n",
      "Epoch 71/100\n",
      "670/670 [==============================] - 0s 635us/step - loss: 0.3291 - accuracy: 0.8630\n",
      "Epoch 72/100\n",
      "670/670 [==============================] - 0s 541us/step - loss: 0.3279 - accuracy: 0.8642\n",
      "Epoch 73/100\n",
      "670/670 [==============================] - 0s 527us/step - loss: 0.3346 - accuracy: 0.8577\n",
      "Epoch 74/100\n",
      "670/670 [==============================] - 0s 553us/step - loss: 0.3329 - accuracy: 0.8615\n",
      "Epoch 75/100\n",
      "670/670 [==============================] - 0s 584us/step - loss: 0.3310 - accuracy: 0.8656\n",
      "Epoch 76/100\n",
      "670/670 [==============================] - 0s 552us/step - loss: 0.3315 - accuracy: 0.8615\n",
      "Epoch 77/100\n",
      "670/670 [==============================] - 0s 588us/step - loss: 0.3314 - accuracy: 0.8615\n",
      "Epoch 78/100\n",
      "670/670 [==============================] - 0s 590us/step - loss: 0.3299 - accuracy: 0.8586\n"
     ]
    },
    {
     "name": "stdout",
     "output_type": "stream",
     "text": [
      "Epoch 79/100\n",
      "670/670 [==============================] - 0s 553us/step - loss: 0.3269 - accuracy: 0.8628\n",
      "Epoch 80/100\n",
      "670/670 [==============================] - 0s 614us/step - loss: 0.3270 - accuracy: 0.8630\n",
      "Epoch 81/100\n",
      "670/670 [==============================] - 0s 563us/step - loss: 0.3327 - accuracy: 0.85910s - loss: 0.3338 - accuracy\n",
      "Epoch 82/100\n",
      "670/670 [==============================] - 0s 504us/step - loss: 0.3312 - accuracy: 0.8666\n",
      "Epoch 83/100\n",
      "670/670 [==============================] - 0s 531us/step - loss: 0.3484 - accuracy: 0.8613\n",
      "Epoch 84/100\n",
      "670/670 [==============================] - 0s 498us/step - loss: 0.3191 - accuracy: 0.8681\n",
      "Epoch 85/100\n",
      "670/670 [==============================] - 0s 504us/step - loss: 0.3235 - accuracy: 0.8663\n",
      "Epoch 86/100\n",
      "670/670 [==============================] - 0s 520us/step - loss: 0.3467 - accuracy: 0.8535\n",
      "Epoch 87/100\n",
      "670/670 [==============================] - 0s 526us/step - loss: 0.3208 - accuracy: 0.8702\n",
      "Epoch 88/100\n",
      "670/670 [==============================] - 0s 515us/step - loss: 0.3276 - accuracy: 0.8634\n",
      "Epoch 89/100\n",
      "670/670 [==============================] - 0s 542us/step - loss: 0.3294 - accuracy: 0.8617\n",
      "Epoch 90/100\n",
      "670/670 [==============================] - 0s 504us/step - loss: 0.3298 - accuracy: 0.8602\n",
      "Epoch 91/100\n",
      "670/670 [==============================] - 0s 506us/step - loss: 0.3427 - accuracy: 0.8567\n",
      "Epoch 92/100\n",
      "670/670 [==============================] - 0s 506us/step - loss: 0.3204 - accuracy: 0.8664\n",
      "Epoch 93/100\n",
      "670/670 [==============================] - 0s 504us/step - loss: 0.3190 - accuracy: 0.8632\n",
      "Epoch 94/100\n",
      "670/670 [==============================] - 0s 514us/step - loss: 0.3333 - accuracy: 0.8580\n",
      "Epoch 95/100\n",
      "670/670 [==============================] - 0s 520us/step - loss: 0.3396 - accuracy: 0.8598\n",
      "Epoch 96/100\n",
      "670/670 [==============================] - 0s 551us/step - loss: 0.3351 - accuracy: 0.8612\n",
      "Epoch 97/100\n",
      "670/670 [==============================] - 0s 543us/step - loss: 0.3338 - accuracy: 0.8642\n",
      "Epoch 98/100\n",
      "670/670 [==============================] - 0s 516us/step - loss: 0.3308 - accuracy: 0.8604\n",
      "Epoch 99/100\n",
      "670/670 [==============================] - 0s 538us/step - loss: 0.3235 - accuracy: 0.8659\n",
      "Epoch 100/100\n",
      "670/670 [==============================] - ETA: 0s - loss: 0.3352 - accuracy: 0.85 - 0s 565us/step - loss: 0.3346 - accuracy: 0.8595\n"
     ]
    }
   ],
   "source": [
    "reg = ann.fit(X_train,y_train,validation_split=0.0,batch_size=10,epochs=100)"
   ]
  },
  {
   "cell_type": "code",
   "execution_count": 25,
   "metadata": {
    "id": "CmQHSRkVZ-yv"
   },
   "outputs": [],
   "source": [
    "y_pred = ann.predict(X_test)\n",
    "y_pred = y_pred > 0.5"
   ]
  },
  {
   "cell_type": "code",
   "execution_count": 26,
   "metadata": {
    "id": "BbWkVmiKaGA9"
   },
   "outputs": [],
   "source": [
    "from sklearn.metrics import confusion_matrix,accuracy_score"
   ]
  },
  {
   "cell_type": "code",
   "execution_count": 27,
   "metadata": {
    "colab": {
     "base_uri": "https://localhost:8080/"
    },
    "id": "P4vmFGtFaIRU",
    "outputId": "a936c95e-abdd-410a-f5f8-ebd8e7ab7514"
   },
   "outputs": [
    {
     "name": "stdout",
     "output_type": "stream",
     "text": [
      "[[2520  137]\n",
      " [ 319  324]]\n"
     ]
    }
   ],
   "source": [
    "print(confusion_matrix(y_test,y_pred))"
   ]
  },
  {
   "cell_type": "code",
   "execution_count": 28,
   "metadata": {
    "colab": {
     "base_uri": "https://localhost:8080/"
    },
    "id": "uM-YV89SaMHL",
    "outputId": "5a04b5f6-c962-4a5f-fdb8-dcff0c59a8c0"
   },
   "outputs": [
    {
     "data": {
      "text/plain": [
       "0.8618181818181818"
      ]
     },
     "execution_count": 28,
     "metadata": {},
     "output_type": "execute_result"
    }
   ],
   "source": [
    "accuracy_score(y_test,y_pred)"
   ]
  },
  {
   "cell_type": "code",
   "execution_count": null,
   "metadata": {
    "id": "0_mekMD6aOCI"
   },
   "outputs": [],
   "source": []
  }
 ],
 "metadata": {
  "colab": {
   "name": "churn modelling",
   "provenance": []
  },
  "kernelspec": {
   "display_name": "Python 3",
   "language": "python",
   "name": "python3"
  },
  "language_info": {
   "codemirror_mode": {
    "name": "ipython",
    "version": 3
   },
   "file_extension": ".py",
   "mimetype": "text/x-python",
   "name": "python",
   "nbconvert_exporter": "python",
   "pygments_lexer": "ipython3",
   "version": "3.7.9"
  }
 },
 "nbformat": 4,
 "nbformat_minor": 1
}
